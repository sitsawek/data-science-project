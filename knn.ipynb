{
 "cells": [
  {
   "cell_type": "code",
   "execution_count": 5,
   "metadata": {},
   "outputs": [],
   "source": [
    "import numpy as np \n",
    "from sortedcontainers import SortedList\n",
    "# from util import get_data\n",
    "from datetime import datetime"
   ]
  },
  {
   "cell_type": "code",
   "execution_count": null,
   "metadata": {},
   "outputs": [],
   "source": [
    "class KNN(object):\n",
    "    def __init__(self, k):\n",
    "        self.k = k \n",
    "\n",
    "    def fit(self, X, y):\n",
    "        self.X = X\n",
    "        self.y = y \n",
    "    \n",
    "    def predict(self, X):\n",
    "        y = np.zeros(len(X))\n",
    "        for i, x in enumerate(X):\n",
    "            sl = SortedList(load=self.k)\n",
    "            for j, xt in enumerate(self.X):\n",
    "                diff = x - xt \n",
    "                d = diff.dot(diff)\n",
    "                if len(sl) < self.k:\n",
    "                    sl.add((d, self.y[j]))\n",
    "                else:\n",
    "                    if d < sl[-1][0]:\n",
    "                        del sl[-1]\n",
    "                        sl.add((d, self.y[j]))\n",
    "            votes = {}\n",
    "            for _, v in sl:\n",
    "                votes[v] = votes.get(v, 0) + 1\n",
    "            max_votes = 0\n",
    "            max_votes_class = -1\n",
    "            for v, count in votes.iteritems():\n",
    "                if count > max_votes:\n",
    "                    max_votes = count \n",
    "                    max_votes_class = v \n",
    "            y[i] = max_votes_class \n",
    "        return y\n",
    "    \n",
    "    def score(self, X, y):\n",
    "        P = self.predict(X)\n",
    "        return np.mean(P == Y)\n",
    "    "
   ]
  }
 ],
 "metadata": {
  "kernelspec": {
   "display_name": "Python 3",
   "language": "python",
   "name": "python3"
  },
  "language_info": {
   "codemirror_mode": {
    "name": "ipython",
    "version": 3
   },
   "file_extension": ".py",
   "mimetype": "text/x-python",
   "name": "python",
   "nbconvert_exporter": "python",
   "pygments_lexer": "ipython3",
   "version": "3.9.9"
  },
  "orig_nbformat": 4
 },
 "nbformat": 4,
 "nbformat_minor": 2
}
