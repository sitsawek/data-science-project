{
 "cells": [
  {
   "cell_type": "code",
   "execution_count": 1,
   "metadata": {},
   "outputs": [],
   "source": [
    "import pandas as pd\n",
    "import os \n",
    "from pathlib import Path\n",
    "import seaborn as sns\n",
    "import missingno as msno\n",
    "import matplotlib.pyplot as plt\n",
    "import numpy as np\n",
    "from sklearn.metrics import mean_absolute_error \n",
    "pd.set_option('display.max_columns', 200)"
   ]
  },
  {
   "cell_type": "code",
   "execution_count": 2,
   "metadata": {},
   "outputs": [
    {
     "data": {
      "text/plain": [
       "'/Users/macintosh/github/data-science-project/predict-energy-behavior-of-prosumers'"
      ]
     },
     "execution_count": 2,
     "metadata": {},
     "output_type": "execute_result"
    }
   ],
   "source": [
    "os.getcwd()"
   ]
  },
  {
   "cell_type": "code",
   "execution_count": 3,
   "metadata": {},
   "outputs": [],
   "source": [
    "INPUT_DIR = \"/Users/Macintosh/Desktop/dataset/predict-energy-behavior-of-prosumers/\"\n",
    "# INPUT_DIR = Path(\"/Users/Macintosh/Downloads/predict-energy-behavior-of-prosumers/\")\n",
    "TEST_INPUT_DIR = \"/Users/Macintosh/Desktop/dataset/predict-energy-behavior-of-prosumers/example_test_files/\"\n"
   ]
  },
  {
   "cell_type": "code",
   "execution_count": 4,
   "metadata": {},
   "outputs": [],
   "source": [
    "# Train Data\n",
    "train_df = pd.read_csv(INPUT_DIR + \"train.csv\", sep= \",\")\n",
    "# train_df = pd.read_csv(INPUT_DIR / \"train.csv\", sep= \",\")\n",
    "client_df = pd.read_csv(INPUT_DIR + \"client.csv\", sep= \",\")\n",
    "electricity_prices_df = pd.read_csv(INPUT_DIR + \"electricity_prices.csv\", sep= \",\")\n",
    "forecast_weather_df = pd.read_csv(INPUT_DIR + \"forecast_weather.csv\", sep= \",\")\n",
    "gas_prices_df = pd.read_csv(INPUT_DIR + \"gas_prices.csv\", sep= \",\")\n",
    "historical_weather_df = pd.read_csv(INPUT_DIR + \"historical_weather.csv\", sep= \",\")\n",
    "weather_station_to_county_mapping_df = pd.read_csv(INPUT_DIR + \"weather_station_to_county_mapping.csv\", sep= \",\")"
   ]
  },
  {
   "cell_type": "code",
   "execution_count": 5,
   "metadata": {},
   "outputs": [],
   "source": [
    "# Test Data\n",
    "test_df = pd.read_csv(TEST_INPUT_DIR + \"test.csv\")\n",
    "sample_submission_df = pd.read_csv(TEST_INPUT_DIR + \"sample_submission.csv\")"
   ]
  },
  {
   "cell_type": "code",
   "execution_count": 6,
   "metadata": {},
   "outputs": [],
   "source": [
    "from sklearn.model_selection import GroupKFold\n",
    "from sklearn.linear_model import LinearRegression"
   ]
  },
  {
   "cell_type": "code",
   "execution_count": 7,
   "metadata": {},
   "outputs": [],
   "source": [
    "# Create data frame for predict value\n",
    "# ALL_IDS = clean_df.row_id.unique()\n",
    "# oof = pd.DataFrame(data=np.zeros((len(ALL_IDS), 1)), index=ALL_IDS, columns=['target'])\n",
    "oof = train_df.loc[:, ['row_id', 'data_block_id', 'target']]\n",
    "oof = oof.set_index('row_id')\n",
    "oof['target'] = 0"
   ]
  },
  {
   "cell_type": "code",
   "execution_count": 8,
   "metadata": {},
   "outputs": [
    {
     "data": {
      "text/html": [
       "<div>\n",
       "<style scoped>\n",
       "    .dataframe tbody tr th:only-of-type {\n",
       "        vertical-align: middle;\n",
       "    }\n",
       "\n",
       "    .dataframe tbody tr th {\n",
       "        vertical-align: top;\n",
       "    }\n",
       "\n",
       "    .dataframe thead th {\n",
       "        text-align: right;\n",
       "    }\n",
       "</style>\n",
       "<table border=\"1\" class=\"dataframe\">\n",
       "  <thead>\n",
       "    <tr style=\"text-align: right;\">\n",
       "      <th></th>\n",
       "      <th>data_block_id</th>\n",
       "      <th>target</th>\n",
       "    </tr>\n",
       "    <tr>\n",
       "      <th>row_id</th>\n",
       "      <th></th>\n",
       "      <th></th>\n",
       "    </tr>\n",
       "  </thead>\n",
       "  <tbody>\n",
       "    <tr>\n",
       "      <th>0</th>\n",
       "      <td>0</td>\n",
       "      <td>0</td>\n",
       "    </tr>\n",
       "    <tr>\n",
       "      <th>1</th>\n",
       "      <td>0</td>\n",
       "      <td>0</td>\n",
       "    </tr>\n",
       "    <tr>\n",
       "      <th>2</th>\n",
       "      <td>0</td>\n",
       "      <td>0</td>\n",
       "    </tr>\n",
       "    <tr>\n",
       "      <th>3</th>\n",
       "      <td>0</td>\n",
       "      <td>0</td>\n",
       "    </tr>\n",
       "    <tr>\n",
       "      <th>4</th>\n",
       "      <td>0</td>\n",
       "      <td>0</td>\n",
       "    </tr>\n",
       "  </tbody>\n",
       "</table>\n",
       "</div>"
      ],
      "text/plain": [
       "        data_block_id  target\n",
       "row_id                       \n",
       "0                   0       0\n",
       "1                   0       0\n",
       "2                   0       0\n",
       "3                   0       0\n",
       "4                   0       0"
      ]
     },
     "execution_count": 8,
     "metadata": {},
     "output_type": "execute_result"
    }
   ],
   "source": [
    "oof.head()"
   ]
  },
  {
   "cell_type": "code",
   "execution_count": 9,
   "metadata": {},
   "outputs": [],
   "source": [
    "# FEATURES = [i for i in train_df.select_dtypes(include='number').columns if i != 'target']"
   ]
  },
  {
   "cell_type": "code",
   "execution_count": 15,
   "metadata": {},
   "outputs": [
    {
     "data": {
      "text/html": [
       "<div>\n",
       "<style scoped>\n",
       "    .dataframe tbody tr th:only-of-type {\n",
       "        vertical-align: middle;\n",
       "    }\n",
       "\n",
       "    .dataframe tbody tr th {\n",
       "        vertical-align: top;\n",
       "    }\n",
       "\n",
       "    .dataframe thead th {\n",
       "        text-align: right;\n",
       "    }\n",
       "</style>\n",
       "<table border=\"1\" class=\"dataframe\">\n",
       "  <thead>\n",
       "    <tr style=\"text-align: right;\">\n",
       "      <th></th>\n",
       "      <th>county</th>\n",
       "      <th>is_business</th>\n",
       "      <th>product_type</th>\n",
       "      <th>target</th>\n",
       "      <th>is_consumption</th>\n",
       "      <th>data_block_id</th>\n",
       "      <th>row_id</th>\n",
       "      <th>prediction_unit_id</th>\n",
       "    </tr>\n",
       "  </thead>\n",
       "  <tbody>\n",
       "    <tr>\n",
       "      <th>0</th>\n",
       "      <td>0</td>\n",
       "      <td>0</td>\n",
       "      <td>1</td>\n",
       "      <td>0.713</td>\n",
       "      <td>0</td>\n",
       "      <td>0</td>\n",
       "      <td>0</td>\n",
       "      <td>0</td>\n",
       "    </tr>\n",
       "    <tr>\n",
       "      <th>1</th>\n",
       "      <td>0</td>\n",
       "      <td>0</td>\n",
       "      <td>1</td>\n",
       "      <td>96.590</td>\n",
       "      <td>1</td>\n",
       "      <td>0</td>\n",
       "      <td>1</td>\n",
       "      <td>0</td>\n",
       "    </tr>\n",
       "    <tr>\n",
       "      <th>2</th>\n",
       "      <td>0</td>\n",
       "      <td>0</td>\n",
       "      <td>2</td>\n",
       "      <td>0.000</td>\n",
       "      <td>0</td>\n",
       "      <td>0</td>\n",
       "      <td>2</td>\n",
       "      <td>1</td>\n",
       "    </tr>\n",
       "    <tr>\n",
       "      <th>3</th>\n",
       "      <td>0</td>\n",
       "      <td>0</td>\n",
       "      <td>2</td>\n",
       "      <td>17.314</td>\n",
       "      <td>1</td>\n",
       "      <td>0</td>\n",
       "      <td>3</td>\n",
       "      <td>1</td>\n",
       "    </tr>\n",
       "    <tr>\n",
       "      <th>4</th>\n",
       "      <td>0</td>\n",
       "      <td>0</td>\n",
       "      <td>3</td>\n",
       "      <td>2.904</td>\n",
       "      <td>0</td>\n",
       "      <td>0</td>\n",
       "      <td>4</td>\n",
       "      <td>2</td>\n",
       "    </tr>\n",
       "  </tbody>\n",
       "</table>\n",
       "</div>"
      ],
      "text/plain": [
       "   county  is_business  product_type  target  is_consumption  data_block_id   \n",
       "0       0            0             1   0.713               0              0  \\\n",
       "1       0            0             1  96.590               1              0   \n",
       "2       0            0             2   0.000               0              0   \n",
       "3       0            0             2  17.314               1              0   \n",
       "4       0            0             3   2.904               0              0   \n",
       "\n",
       "   row_id  prediction_unit_id  \n",
       "0       0                   0  \n",
       "1       1                   0  \n",
       "2       2                   1  \n",
       "3       3                   1  \n",
       "4       4                   2  "
      ]
     },
     "execution_count": 15,
     "metadata": {},
     "output_type": "execute_result"
    }
   ],
   "source": [
    "train_df.select_dtypes(include='number').drop(columns=[''])"
   ]
  },
  {
   "cell_type": "code",
   "execution_count": 16,
   "metadata": {},
   "outputs": [],
   "source": [
    "FEATURES = ['county', 'is_business', 'product_type', 'is_consumption', 'prediction_unit_id']"
   ]
  },
  {
   "cell_type": "code",
   "execution_count": 17,
   "metadata": {},
   "outputs": [],
   "source": [
    "model = {}"
   ]
  },
  {
   "cell_type": "code",
   "execution_count": 18,
   "metadata": {},
   "outputs": [],
   "source": [
    "# clean_df = train_df[~train_df['target'].isna()].reset_index(drop=True)\n",
    "clean_df = train_df.fillna(value={'target':-999})"
   ]
  },
  {
   "cell_type": "code",
   "execution_count": 19,
   "metadata": {},
   "outputs": [
    {
     "data": {
      "text/html": [
       "<div>\n",
       "<style scoped>\n",
       "    .dataframe tbody tr th:only-of-type {\n",
       "        vertical-align: middle;\n",
       "    }\n",
       "\n",
       "    .dataframe tbody tr th {\n",
       "        vertical-align: top;\n",
       "    }\n",
       "\n",
       "    .dataframe thead th {\n",
       "        text-align: right;\n",
       "    }\n",
       "</style>\n",
       "<table border=\"1\" class=\"dataframe\">\n",
       "  <thead>\n",
       "    <tr style=\"text-align: right;\">\n",
       "      <th></th>\n",
       "      <th>county</th>\n",
       "      <th>is_business</th>\n",
       "      <th>product_type</th>\n",
       "      <th>target</th>\n",
       "      <th>is_consumption</th>\n",
       "      <th>datetime</th>\n",
       "      <th>data_block_id</th>\n",
       "      <th>row_id</th>\n",
       "      <th>prediction_unit_id</th>\n",
       "    </tr>\n",
       "  </thead>\n",
       "  <tbody>\n",
       "    <tr>\n",
       "      <th>0</th>\n",
       "      <td>0</td>\n",
       "      <td>0</td>\n",
       "      <td>1</td>\n",
       "      <td>0.713</td>\n",
       "      <td>0</td>\n",
       "      <td>2021-09-01 00:00:00</td>\n",
       "      <td>0</td>\n",
       "      <td>0</td>\n",
       "      <td>0</td>\n",
       "    </tr>\n",
       "    <tr>\n",
       "      <th>1</th>\n",
       "      <td>0</td>\n",
       "      <td>0</td>\n",
       "      <td>1</td>\n",
       "      <td>96.590</td>\n",
       "      <td>1</td>\n",
       "      <td>2021-09-01 00:00:00</td>\n",
       "      <td>0</td>\n",
       "      <td>1</td>\n",
       "      <td>0</td>\n",
       "    </tr>\n",
       "    <tr>\n",
       "      <th>2</th>\n",
       "      <td>0</td>\n",
       "      <td>0</td>\n",
       "      <td>2</td>\n",
       "      <td>0.000</td>\n",
       "      <td>0</td>\n",
       "      <td>2021-09-01 00:00:00</td>\n",
       "      <td>0</td>\n",
       "      <td>2</td>\n",
       "      <td>1</td>\n",
       "    </tr>\n",
       "    <tr>\n",
       "      <th>3</th>\n",
       "      <td>0</td>\n",
       "      <td>0</td>\n",
       "      <td>2</td>\n",
       "      <td>17.314</td>\n",
       "      <td>1</td>\n",
       "      <td>2021-09-01 00:00:00</td>\n",
       "      <td>0</td>\n",
       "      <td>3</td>\n",
       "      <td>1</td>\n",
       "    </tr>\n",
       "    <tr>\n",
       "      <th>4</th>\n",
       "      <td>0</td>\n",
       "      <td>0</td>\n",
       "      <td>3</td>\n",
       "      <td>2.904</td>\n",
       "      <td>0</td>\n",
       "      <td>2021-09-01 00:00:00</td>\n",
       "      <td>0</td>\n",
       "      <td>4</td>\n",
       "      <td>2</td>\n",
       "    </tr>\n",
       "  </tbody>\n",
       "</table>\n",
       "</div>"
      ],
      "text/plain": [
       "   county  is_business  product_type  target  is_consumption   \n",
       "0       0            0             1   0.713               0  \\\n",
       "1       0            0             1  96.590               1   \n",
       "2       0            0             2   0.000               0   \n",
       "3       0            0             2  17.314               1   \n",
       "4       0            0             3   2.904               0   \n",
       "\n",
       "              datetime  data_block_id  row_id  prediction_unit_id  \n",
       "0  2021-09-01 00:00:00              0       0                   0  \n",
       "1  2021-09-01 00:00:00              0       1                   0  \n",
       "2  2021-09-01 00:00:00              0       2                   1  \n",
       "3  2021-09-01 00:00:00              0       3                   1  \n",
       "4  2021-09-01 00:00:00              0       4                   2  "
      ]
     },
     "execution_count": 19,
     "metadata": {},
     "output_type": "execute_result"
    }
   ],
   "source": [
    "clean_df.head()"
   ]
  },
  {
   "cell_type": "code",
   "execution_count": 20,
   "metadata": {},
   "outputs": [
    {
     "name": "stdout",
     "output_type": "stream",
     "text": [
      "<class 'pandas.core.frame.DataFrame'>\n",
      "RangeIndex: 2018352 entries, 0 to 2018351\n",
      "Data columns (total 9 columns):\n",
      " #   Column              Dtype  \n",
      "---  ------              -----  \n",
      " 0   county              int64  \n",
      " 1   is_business         int64  \n",
      " 2   product_type        int64  \n",
      " 3   target              float64\n",
      " 4   is_consumption      int64  \n",
      " 5   datetime            object \n",
      " 6   data_block_id       int64  \n",
      " 7   row_id              int64  \n",
      " 8   prediction_unit_id  int64  \n",
      "dtypes: float64(1), int64(7), object(1)\n",
      "memory usage: 138.6+ MB\n"
     ]
    }
   ],
   "source": [
    "clean_df.info()"
   ]
  },
  {
   "cell_type": "code",
   "execution_count": 56,
   "metadata": {},
   "outputs": [],
   "source": [
    "def linear_predict(model_dict, model_name, data, output_data, features):\n",
    "    gkf = GroupKFold(n_splits=5)\n",
    "    for i, (train_idx, valid_idx) in enumerate(gkf.split(X=data, groups=data.index)):\n",
    "        print(f'Fold {i+1}')\n",
    "        print('=======')\n",
    "        train_x = data.loc[train_idx]\n",
    "        train_y = data.loc[train_idx]\n",
    "        valid = data.loc[valid_idx]\n",
    "        valid_ids = valid.row_id.values\n",
    "\n",
    "        reg = LinearRegression()\n",
    "        reg.fit(train_x[features], train_y['target'])\n",
    "\n",
    "        model_dict[f'{model_name}'] = reg \n",
    "        output_data.loc[valid_ids,['target']] = reg.predict(valid[features])\n",
    "    return output_data"
   ]
  },
  {
   "cell_type": "code",
   "execution_count": 57,
   "metadata": {},
   "outputs": [],
   "source": [
    "import xgboost as xgb "
   ]
  },
  {
   "cell_type": "code",
   "execution_count": 58,
   "metadata": {},
   "outputs": [],
   "source": [
    "def xgb_predict(model_dict, model_name, data, output_data, features):\n",
    "    gkf = GroupKFold(n_splits=5)\n",
    "    for i, (train_idx, valid_idx) in enumerate(gkf.split(X=data, groups=data.index)):\n",
    "        print(f'Fold {i+1}')\n",
    "        print('=======')\n",
    "        train_x = data.loc[train_idx]\n",
    "        train_y = data.loc[train_idx]\n",
    "        valid = data.loc[valid_idx]\n",
    "        valid_ids = valid.row_id.values\n",
    "\n",
    "        xgb_r = xgb.XGBRegressor(objective='reg:linear', n_estimators=10, seed=123)\n",
    "        xgb_r.fit(train_x[features], train_y['target'])\n",
    "\n",
    "        model_dict[f'{model_name}'] = xgb_r\n",
    "        output_data.loc[valid_ids, ['target']] = xgb_r.predict(valid[features])\n",
    "    return output_data\n"
   ]
  },
  {
   "cell_type": "code",
   "execution_count": 59,
   "metadata": {},
   "outputs": [],
   "source": [
    "from lightgbm import LGBMRegressor"
   ]
  },
  {
   "cell_type": "code",
   "execution_count": 64,
   "metadata": {},
   "outputs": [],
   "source": [
    "def lgbm_predict(model_dict, model_name, data, output_data, features):\n",
    "    gkf = GroupKFold(n_splits=5)\n",
    "    for i, (train_idx, valid_idx) in enumerate(gkf.split(X=data, groups=data.index)):\n",
    "        print(f'KFold : {i+1}')\n",
    "        print('=======')\n",
    "        train_x = data.loc[train_idx]\n",
    "        train_y = data.loc[train_idx]\n",
    "        valid = data.loc[valid_idx]\n",
    "        valid_ids = valid.row_id.values\n",
    "\n",
    "        lgbm_r = LGBMRegressor(n_estimators=10, seed=123)\n",
    "        lgbm_r.fit(train_x[features], train_y['target'])\n",
    "\n",
    "        model_dict[f'{model_name}'] = lgbm_r \n",
    "        output_data.loc[valid_ids, ['target']] = lgbm_r.predict(valid[features])\n",
    "    return output_data"
   ]
  },
  {
   "cell_type": "code",
   "execution_count": 69,
   "metadata": {},
   "outputs": [],
   "source": [
    "from sklearn.neighbors import KNeighborsRegressor"
   ]
  },
  {
   "cell_type": "code",
   "execution_count": 70,
   "metadata": {},
   "outputs": [],
   "source": [
    "def knb_predict(model_dict, model_name, data, output_data, features):\n",
    "    gkf = GroupKFold(n_splits=5)\n",
    "    for i, (train_idx, valid_idx) in enumerate(gkf.split(X=data, groups=data.index)):\n",
    "        print(f'KFold : {i+1}')\n",
    "        print('=======')\n",
    "        train_x = data.loc[train_idx]\n",
    "        train_y = data.loc[train_idx]\n",
    "        valid = data.loc[valid_idx]\n",
    "        valid_ids = valid.row_id.values\n",
    "\n",
    "        knb = KNeighborsRegressor(n_neighbors=3)\n",
    "        knb.fit(train_x[features], train_y['target'])\n",
    "\n",
    "        model_dict[f'{model_name}'] = knb \n",
    "        output_data.loc[valid_ids, ['target']] = knb.predict(valid[features])\n",
    "    return output_data"
   ]
  },
  {
   "cell_type": "code",
   "execution_count": 22,
   "metadata": {},
   "outputs": [
    {
     "data": {
      "text/plain": [
       "(2018352, 2)"
      ]
     },
     "execution_count": 22,
     "metadata": {},
     "output_type": "execute_result"
    }
   ],
   "source": [
    "# oof.shape"
   ]
  },
  {
   "cell_type": "code",
   "execution_count": 71,
   "metadata": {},
   "outputs": [
    {
     "name": "stdout",
     "output_type": "stream",
     "text": [
      "KFold : 1\n",
      "=======\n",
      "KFold : 2\n",
      "=======\n",
      "KFold : 3\n",
      "=======\n",
      "KFold : 4\n",
      "=======\n",
      "KFold : 5\n",
      "=======\n"
     ]
    }
   ],
   "source": [
    "# oof = linear_predict(model, 'first', clean_df, oof, FEATURES)\n",
    "# oof = xgb_predict(model, 'xgb', clean_df, oof, FEATURES)\n",
    "# oof = lgbm_predict(model, 'lgbm', clean_df, oof, FEATURES)\n",
    "oof = knb_predict(model, 'knb', clean_df, oof, FEATURES)"
   ]
  },
  {
   "cell_type": "code",
   "execution_count": 72,
   "metadata": {},
   "outputs": [],
   "source": [
    "def mae(df_pred, df_train):\n",
    "    return mean_absolute_error(oof['target'], clean_df['target'])"
   ]
  },
  {
   "cell_type": "code",
   "execution_count": 73,
   "metadata": {},
   "outputs": [
    {
     "data": {
      "text/plain": [
       "160.72146725827145"
      ]
     },
     "execution_count": 73,
     "metadata": {},
     "output_type": "execute_result"
    }
   ],
   "source": [
    "mae(oof, clean_df)"
   ]
  },
  {
   "cell_type": "code",
   "execution_count": 635,
   "metadata": {},
   "outputs": [
    {
     "data": {
      "text/plain": [
       "2018352"
      ]
     },
     "execution_count": 635,
     "metadata": {},
     "output_type": "execute_result"
    }
   ],
   "source": [
    "oof.shape[0]"
   ]
  },
  {
   "cell_type": "code",
   "execution_count": null,
   "metadata": {},
   "outputs": [],
   "source": []
  }
 ],
 "metadata": {
  "kernelspec": {
   "display_name": "Python 3",
   "language": "python",
   "name": "python3"
  },
  "language_info": {
   "codemirror_mode": {
    "name": "ipython",
    "version": 3
   },
   "file_extension": ".py",
   "mimetype": "text/x-python",
   "name": "python",
   "nbconvert_exporter": "python",
   "pygments_lexer": "ipython3",
   "version": "3.9.9"
  },
  "orig_nbformat": 4
 },
 "nbformat": 4,
 "nbformat_minor": 2
}
